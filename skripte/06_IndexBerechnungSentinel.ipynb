{
 "cells": [
  {
   "cell_type": "code",
   "execution_count": null,
   "id": "7f812812-b92f-4629-9f32-add4a94f6574",
   "metadata": {},
   "outputs": [],
   "source": [
    "\"\"\"\n",
    "Erstellung von TIF-Dateien beliebiger Fernerkundungsindizes aus Sentinel-2-Daten \n",
    "\n",
    "Der Benutzer gibt seinen Dateipfad zum Sentinelordner und den gewünschten Index an \n",
    "(je nach Fragestellung, siehe unten)\n",
    "Daraufhin geht das Programm in die Unterordner, wählt die Bänder in höchstmöglicher Auflösung aus und berechnet die Indizes.\n",
    "Generelle Formel: (Rx-Ry)/(Rx+Ry)\n",
    "Es können im Code beliebige Indices hinzugefügt werden, die sich aus den Sentinel-2-Bändern berechnen lassen! \n",
    "\n",
    "\"\"\""
   ]
  },
  {
   "cell_type": "code",
   "execution_count": 5,
   "id": "e22067ca-0422-46ac-aeb1-b57e99f3b92f",
   "metadata": {},
   "outputs": [],
   "source": [
    "\"\"\"\n",
    "HIER NOCH NACH BELIEBEN MEHR INDIZES EINFÜGEN\n",
    "\n",
    "NDWI = Fließ- und Stillgewässer, überflutete Bereiche \n",
    "NDVI = Vegetationsdichte und -intensität \n",
    "NDCI = Chlorophyll-Pigment von Pflanzen und Algen, Phytoplankton-Monitoring IN GEWÄSSERN (ökologische Gewässerqualität). Kein terrestrischer Index. \n",
    "NDMI = Vegetationsfeuchte\n",
    "\"\"\"\n",
    "\n",
    "index_dict = {\n",
    "    \"NDWI\": (\"03\", \"08\"),   # (Grün, Nahinfrarot)\n",
    "    \"NDVI\": (\"08\", \"04\"),    # (Nahinfrarot, Rot)\n",
    "    \"NDCI\": (\"04\", \"05\") ,   # (Rot, Rot-Rand)\n",
    "    \"NDMI\": (\"8A\", \"11\")     # (Vegetations-Rot-Rand, Kurzwelleninfrarot)\n",
    "}"
   ]
  },
  {
   "cell_type": "code",
   "execution_count": 6,
   "id": "1dd42b12-1200-4b92-86bf-7505ec958d08",
   "metadata": {},
   "outputs": [],
   "source": [
    "import os \n",
    "import numpy as np \n",
    "import pandas as pd \n",
    "import rasterio \n",
    "import matplotlib.pyplot as plt \n",
    "import tkinter as tk \n",
    "from tkinter import filedialog"
   ]
  },
  {
   "cell_type": "code",
   "execution_count": null,
   "id": "e34ea4a0-84ec-482b-a07e-c069ee02285e",
   "metadata": {},
   "outputs": [],
   "source": [
    "def select_folder(title=\"Ordner auswählen\"):\n",
    "    root = tk.Tk()\n",
    "    root.withdraw()\n",
    "    folder_selected = filedialog.askdirectory(title=title)\n",
    "    return folder_selected\n",
    "\n",
    "\n",
    "def find_band_files(s2_folder, band_numbers):\n",
    "    \"\"\"\n",
    "    Sucht die passenden Sentinel-2-Bänder in der passenden Auflösung und vermeidet, dass Bänder mit unterschiedlicher Auflösung kombiniert werden.\n",
    "    \n",
    "    \"\"\"\n",
    "    \n",
    "    resolution_paths = [\"R10m\", \"R20m\", \"R60m\"]\n",
    "    band_files = {}\n",
    "    resolutions_found = {}\n",
    "\n",
    "    # erst alle möglichen auflösungen finden, dann aber nur mit bändern derselben auflösung weiterarbeiten \n",
    "    for root, dirs, files in os.walk(s2_folder):\n",
    "        root = os.path.normpath(root)\n",
    "        if any(res in root for res in resolution_paths):\n",
    "            for file in files:\n",
    "                for band in band_numbers:\n",
    "                    if f\"_B{band}_\" in file and file.endswith(\".jp2\"):\n",
    "                        res = os.path.basename(root)  # ordnername wird mit os.path abgerufen (zb \"R10m\")\n",
    "                        if band not in resolutions_found:\n",
    "                            resolutions_found[band] = []\n",
    "                        resolutions_found[band].append(res)\n",
    "                        break\n",
    "\n",
    "    common_resolutions = set(resolutions_found[band_numbers[0]])\n",
    "    for band in band_numbers[1:]:\n",
    "        common_resolutions.intersection_update(resolutions_found[band])\n",
    "\n",
    "    if not common_resolutions:\n",
    "        print(\"Keine gemeinsame Auflösung für alle benötigten Bänder gefunden!\")\n",
    "        return {}\n",
    "\n",
    "    resolution_order = {\"R10m\": 1, \"R20m\": 2, \"R60m\": 3}\n",
    "    selected_resolution = min(common_resolutions, key=lambda x: resolution_order[x])\n",
    "\n",
    "    # alle Bänder der gewählten Auflösung in band_files bringen\n",
    "    for root, dirs, files in os.walk(s2_folder):\n",
    "        root = os.path.normpath(root)\n",
    "        if selected_resolution in root:\n",
    "            for file in files:\n",
    "                for band in band_numbers:\n",
    "                    if f\"_B{band}_\" in file and file.endswith(\".jp2\"):\n",
    "                        band_files[band] = os.path.normpath(os.path.join(root, file))\n",
    "                        break\n",
    "\n",
    "    return band_files\n",
    "\n",
    "# Hier wird der Index basierend auf den gewählten Bändern berechnet\n",
    "def calculate_index(band_paths, index):\n",
    "    with rasterio.open(band_paths[index[0]]) as b1, rasterio.open(band_paths[index[1]]) as b2:\n",
    "        band1 = b1.read(1).astype(np.float32)\n",
    "        band2 = b2.read(1).astype(np.float32)\n",
    "        index_result = np.where((band1 + band2) == 0, np.nan, (band1 - band2) / (band1 + band2))\n",
    "        meta = b1.meta.copy()  # Meta erst nach dem Öffnen kopieren\n",
    "        meta.update(dtype=rasterio.float32, count=1)\n",
    "    return index_result, meta\n",
    "\n",
    "\n",
    "# Der Index wird als Rasterdatei gespeichert, hierfür wird rasterio verwendet. \n",
    "# Das ganze wird aufgrund der Eigenschaften von .jp2 Dateien als GeoTIFF gespeichert. \n",
    "def save_raster(output_path, data, meta):\n",
    "    meta.update(driver='GTiff')\n",
    "    \n",
    "    with rasterio.open(output_path, \"w\", **meta) as dst:\n",
    "        dst.write(data, 1)\n"
   ]
  },
  {
   "cell_type": "code",
   "execution_count": 12,
   "id": "0c0650f1-8825-466f-b268-1cff851fd3fe",
   "metadata": {},
   "outputs": [
    {
     "name": "stdout",
     "output_type": "stream",
     "text": [
      "Verfügbare Indizes: ['NDWI', 'NDVI', 'NDCI', 'NDMI']\n"
     ]
    },
    {
     "name": "stdout",
     "output_type": "stream",
     "text": [
      "Gewünschten Fernerkundungs-Index angeben:  NDMI\n"
     ]
    },
    {
     "name": "stderr",
     "output_type": "stream",
     "text": [
      "C:\\Users\\Koch\\AppData\\Local\\Temp\\ipykernel_20188\\1982445964.py:59: RuntimeWarning: invalid value encountered in divide\n",
      "  index_result = np.where((band1 + band2) == 0, np.nan, (band1 - band2) / (band1 + band2))\n"
     ]
    },
    {
     "name": "stdout",
     "output_type": "stream",
     "text": [
      "NDMI-TIF gespeichert unter N:/DBU MONI/Fernerkundung/Sentinel_2_L2A_Daten/Cuxhaven_05.09.2024/S2B_MSIL2A_20240905T102559_N0511_R108_T32UME_20240905T163108.SAFE\\Cuxhaven_0_NDMI.tif\n"
     ]
    }
   ],
   "source": [
    "def main():\n",
    "    s2_folder = select_folder(\"Sentinel-2 Ordner auswählen\")\n",
    "    output_folder = select_folder(\"Speicherort für Index wählen\")\n",
    "  \n",
    "    print(\"Verfügbare Indizes:\", list(index_dict.keys()))\n",
    "    selected_index = input(\"Gewünschten Fernerkundungs-Index angeben: \")\n",
    "    \n",
    "    if selected_index not in index_dict:\n",
    "        print(\"Ungültige Eingabe.\")\n",
    "        return\n",
    "    \n",
    "    bands_needed = index_dict[selected_index]\n",
    "    band_paths = find_band_files(s2_folder, bands_needed)\n",
    "    \n",
    "    if len(band_paths) < 2:\n",
    "        print(\"Nicht alle benötigten Bänder gefunden!\")\n",
    "        return\n",
    "    \n",
    "    index_data, meta = calculate_index(band_paths, bands_needed)\n",
    "    folder_name = os.path.basename(os.path.normpath(s2_folder))\n",
    "    folder_name_short = folder_name[:10]\n",
    "\n",
    "    \n",
    "    output_file = os.path.join(output_folder, f\"{folder_name_short}_{selected_index}.tif\")\n",
    "    \n",
    "    save_raster(output_file, index_data, meta)\n",
    "    print(f\"{selected_index}-TIF gespeichert unter {output_file}\")\n",
    "\n",
    "if __name__ == \"__main__\":\n",
    "    main()"
   ]
  },
  {
   "cell_type": "code",
   "execution_count": null,
   "id": "7e565390-e70b-48bf-a177-bca7fe50e11b",
   "metadata": {},
   "outputs": [],
   "source": []
  }
 ],
 "metadata": {
  "kernelspec": {
   "display_name": "Python 3 (ipykernel)",
   "language": "python",
   "name": "python3"
  },
  "language_info": {
   "codemirror_mode": {
    "name": "ipython",
    "version": 3
   },
   "file_extension": ".py",
   "mimetype": "text/x-python",
   "name": "python",
   "nbconvert_exporter": "python",
   "pygments_lexer": "ipython3",
   "version": "3.12.9"
  }
 },
 "nbformat": 4,
 "nbformat_minor": 5
}
