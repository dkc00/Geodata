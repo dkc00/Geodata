{
 "cells": [
  {
   "cell_type": "markdown",
   "id": "c76a596b-96bb-4e99-8ba3-c6b05781fc01",
   "metadata": {},
   "source": [
    "# Geologische Fernerkundungs-Methoden am Beispiel des Siebengebirges "
   ]
  },
  {
   "cell_type": "markdown",
   "id": "65d70425-b564-4616-863c-f8c596fa65de",
   "metadata": {},
   "source": [
    "Am Beispiel des Siebengebirges nahe Bonn möchte ich verschiedene geologische Ansätze testen, inwiefern sich Sentinel-2 Daten (evtl. ergänzt mit anderen Satellitendaten wie Landsat) für die geol. Beschreibung des Gebiets eignen. "
   ]
  },
  {
   "cell_type": "markdown",
   "id": "6f60b32b-8786-44c9-b4ae-1acb27fbc35a",
   "metadata": {},
   "source": [
    "Zuerst laden wir ein aktuelles Sentinel-2 Bild ohne nennenswerte Wolkenbedeckung (Sep. 2025) vom Copernicus Dataspace herunter. Aus dem S2-Datenverarbeitungsskript für Uruguay nehmen wir den Code, um die Nodata- Bereiche herauszuschneiden (bei häufiger Benutzung ggfs. mal als Funktion umschreiben). In der Python-Konsole von QGIS ausführbar."
   ]
  },
  {
   "cell_type": "code",
   "execution_count": null,
   "id": "d8fe1601-2c7c-4596-b3b0-fd416fe16fbd",
   "metadata": {},
   "outputs": [],
   "source": [
    "from qgis.core import QgsRasterLayer, QgsProject \n",
    "import processing "
   ]
  },
  {
   "cell_type": "code",
   "execution_count": null,
   "id": "410c6051-56a7-40e6-a6a0-0e201fc489ed",
   "metadata": {},
   "outputs": [],
   "source": [
    "testbild_path = r\"C:\\Users\\Daniel Koch\\Desktop\\Fernerkundung\\Daten\\Siebengebirge\\S2A_MSIL2A_20250907T103031_N0511_R108_T31UGS_20250907T142815.SAFE\\GRANULE\\L2A_T31UGS_A053330_20250907T103505\\IMG_DATA\\R10m\\T31UGS_20250907T103031_TCI_10m.jp2\"\n",
    "\n",
    "lyr = QgsRasterLayer(testbild_path, os.path.basename(testbild_path))\n",
    "\n",
    "cut_path = os.path.splitext(testbild_path)[0] + \"_cut.tif\"\n",
    "\n",
    "params = {\n",
    "    'INPUT': testbild_path,\n",
    "    'TARGET_CRS': None,\n",
    "    'NODATA': 0,              \n",
    "    'COPY_SUBDATASETS': False,\n",
    "    'OPTIONS': 'COMPRESS=ZSTD|PREDICTOR=2|TILED=YES|ZSTD_LEVEL=9', # um dateigroeße zu senken\n",
    "    'DATA_TYPE': 0,\n",
    "    'OUTPUT': cut_path\n",
    "}\n",
    "processing.run(\"gdal:translate\", params)\n",
    "\n",
    "QgsProject.instance().addMapLayer(QgsRasterLayer(cut_path, os.path.basename(cut_path)))\n",
    "\n",
    "print(f\"Gespeichert: {cut_path}\")"
   ]
  },
  {
   "cell_type": "markdown",
   "id": "6b77a327-2b8b-48c3-92d8-a753c99c1462",
   "metadata": {},
   "source": [
    "Diesen Schritt führen wir für das True Color Image (TCI) sowie für die jeweiligen Bänder aus, die wir benötigen"
   ]
  },
  {
   "cell_type": "markdown",
   "id": "36ec8ffb-7fa6-4e4e-9419-278cf2b0435c",
   "metadata": {},
   "source": [
    "### Geologie des Siebengebirges \n",
    "\n",
    "- Vorausgehend: Im Devon und Unterkarbon (Paläozoikum) werden Sedimente abgelagert und im Rahmen der variszischen Gebirgsbildung zum Rheinischen Schiefergebirge aufgeschoben.\n",
    "- Absinken der Kölner Bucht im Paläozan \n",
    "- Entstehung im Tertiär (vor ca 25 Ma), vulkanisches Gebiet das auf dem Rheinischen Schiefergebirge aufsitzt\n",
    "- Niederrheinische Bucht sinkt seit 40 Ma als keilförmige Scholle\n",
    "- Trachyte, Basalte, Latite und Phonolithe (Lava drang in den Tuff ein, kühlte ab und erstarrte). Zentrum der Ausbrüche im Mirbesbachtal zwischen Petersberg und Drachenfels \n",
    "- Herausforderung in der Überlagerung von Vegetation (NDVI-Threshold von z.B. >0.2 einbauen) und böden sowie anthopogenem Einfluss\n",
    "- Heutige Hebung des Rheinischen Schiefergebirges um 1mm/a (begann vor 400ka sich erneut zu heben, wodurch sich die Erosion beschleunigte und der Tuff erodiert wurde -> Übrig blieben Drachenfels, Ölberg etc.) Der Rhein schnitt sich in den Untergrund ein, wodurch die vorhandenen Quellkuppen aus dem vorher vorhandenen Tuffmantel hervorkamen (Entstehung des Ur-Rheins im Miozän/Pliozän ca. vor 5 Ma).\n",
    "- Hebung und Erosion der Flusstäler während der pleistozänen Glaziale (Hauptterasse Cromer/Elster-Eiszeit, Mittelterrasse Elster- bis Saale-Eiszeit, Niederterrasse Weichsel-Eiszeit)\n",
    "- 13 höchste Gipfel: Dollendorfer Hardt, Weilberg, Stenzelberg, Petersberg, Rosenau, Ölberg, Nonnenstromberg, Hirschberg, Wolkenburg, Drachenfels, Großer Breiberg, Löwenburg, Lohrberg\n",
    "\n",
    "### Vegetation und Ökologie\n",
    "\n",
    "- Sowohl nährstoffarme- wie reiche, basische und saure, lehmige, felsige und kiesige Pflanzenarten\n",
    "- Durch vulkanische Geschichte verschiedene SiO2-Bedingungen der jeweiligen Berge\n",
    "- basische Böden: Bingelkraut, Küchenschelle, Goldnessel, Waldmeister, Einblütiges Perlgras\n",
    "- saure Böden: Hainsimse, Besenheide, Stechpalme\n",
    "- bis 150m Eichenwälder, bis 250m Eichen-Hainbuchen, ab 250m Rotbuchen, ab 350m vorherrschenden Buchen\n",
    "\n",
    "- wärmeliebende, mediterrane Arten auf schwarzem Schiefer und Basalt (als Wärmespeicher) \n",
    "\n",
    "Quellen: \n",
    "- https://www.naturpark7gebirge.de/der-naturpark/geologie\n",
    "- https://www.gd.nrw.de/ge_ev_geologie-erleben_siebengebirge\n",
    "- Schwarz C (2014) Die Geschichte der geologischen Erforschung des Siebengebirges "
   ]
  },
  {
   "cell_type": "markdown",
   "id": "7a6d9214-1f1e-46eb-ba93-6d03985d0f6f",
   "metadata": {},
   "source": [
    "Verwitterung in Form von Eisenoxide (Hämatit, Goethit) können wir mit dem Iron Oxide Index (B4/B2) testen. "
   ]
  },
  {
   "cell_type": "markdown",
   "id": "5e7a4252-b97e-4b1f-b6f4-b46f42b270eb",
   "metadata": {},
   "source": [
    "Außerdem: \n",
    "- Fels und Bodenpixel extrahieren\n",
    "- ferrous iron index (B11/B4)\n",
    "- Clay index (B11/B12)\n",
    "- mit GK25 des siebengebirges abgleichen?\n",
    "- SWIR für Tonminerale \n",
    "- DGM verfügbar? "
   ]
  },
  {
   "cell_type": "code",
   "execution_count": null,
   "id": "be3b1669-9d7e-4113-87ce-879e92e1e855",
   "metadata": {},
   "outputs": [],
   "source": []
  }
 ],
 "metadata": {
  "kernelspec": {
   "display_name": "Python 3 (ipykernel)",
   "language": "python",
   "name": "python3"
  },
  "language_info": {
   "codemirror_mode": {
    "name": "ipython",
    "version": 3
   },
   "file_extension": ".py",
   "mimetype": "text/x-python",
   "name": "python",
   "nbconvert_exporter": "python",
   "pygments_lexer": "ipython3",
   "version": "3.12.4"
  }
 },
 "nbformat": 4,
 "nbformat_minor": 5
}
