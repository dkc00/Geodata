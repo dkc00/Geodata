{
 "cells": [
  {
   "cell_type": "markdown",
   "id": "6a865a6b-c876-4907-9394-877fc36d8242",
   "metadata": {},
   "source": [
    "# Sentinel-2-Bandstatistik ausgeben"
   ]
  },
  {
   "cell_type": "markdown",
   "id": "17a6a4b5-41f6-4b76-b119-6950f71e904d",
   "metadata": {},
   "source": [
    "\n",
    "Für ein Sentinel-2-Band möchte ich mir die Statistik des Bandes ausgeben, \n",
    "um mögliche Ausreißer zu finden und einen ersten Eindruck zu gewinnen, \n",
    "was die Daten angeht. Ich möchte mit rasterio sowie ergänzend mit notwendigen \n",
    "Bibliotheken wie numpy, matplotlib, ... arbeiten.\n",
    "\n",
    "Die Teilschritte können in die gesamte Sentinel-2-Auswertungsroutine eingebaut und erweitert werden, auch in Schleifen für eine Anzahl von x Bändern."
   ]
  },
  {
   "cell_type": "code",
   "execution_count": 13,
   "id": "f8c303e0-4301-4cc3-aae5-43681c8e52f1",
   "metadata": {},
   "outputs": [],
   "source": [
    "import rasterio \n",
    "import matplotlib.pyplot as plt \n",
    "import numpy as np\n"
   ]
  },
  {
   "cell_type": "markdown",
   "id": "47ba8a54-3fd2-40c1-8ad3-a768edc7b885",
   "metadata": {},
   "source": [
    "## Band einladen und Metadaten ausgeben"
   ]
  },
  {
   "cell_type": "code",
   "execution_count": null,
   "id": "c3b6966f-f306-48e0-b18c-8cfed6f0e068",
   "metadata": {},
   "outputs": [],
   "source": [
    "band_path = r\"C:\\Users\\Daniel Koch\\Desktop\\Fernerkundung\\Daten\\Sentinel_Uruguay\\S2B_MSIL1C_20250911T133829_N0511_R124_T21HUB_20250911T183814\\T21HUB_20250911T133829_B04.jp2\"\n",
    "\n",
    "band = rasterio.open(band_path)\n",
    "\n",
    "# print(band.name) # Test ob das band richtig eingelesen wurde"
   ]
  },
  {
   "cell_type": "code",
   "execution_count": 2,
   "id": "3f494817-7fb9-4f82-be34-25042ffa5c19",
   "metadata": {},
   "outputs": [
    {
     "data": {
      "text/plain": [
       "1"
      ]
     },
     "execution_count": 2,
     "metadata": {},
     "output_type": "execute_result"
    }
   ],
   "source": [
    "band.count # anzahl der eingeladenen bänder"
   ]
  },
  {
   "cell_type": "code",
   "execution_count": 4,
   "id": "a8260e0c-9a2f-4641-8175-2a6cb907ec6a",
   "metadata": {},
   "outputs": [
    {
     "name": "stdout",
     "output_type": "stream",
     "text": [
      "Die Breite des Bands ist 10980\n",
      "Die Höhe des Bands ist 10980\n"
     ]
    }
   ],
   "source": [
    "print(f\"Die Breite des Bands ist {band.width} Pixel.\")\n",
    "print(f\"Die Höhe des Bands ist {band.height} Pixel.\")"
   ]
  },
  {
   "cell_type": "code",
   "execution_count": 11,
   "id": "95e516a8-5797-41db-b689-c5a6ad74a153",
   "metadata": {},
   "outputs": [
    {
     "data": {
      "text/plain": [
       "BoundingBox(left=300000.0, bottom=6090220.0, right=409800.0, top=6200020.0)"
      ]
     },
     "execution_count": 11,
     "metadata": {},
     "output_type": "execute_result"
    }
   ],
   "source": [
    "band.bounds # bounding box ausgeben\n"
   ]
  },
  {
   "cell_type": "code",
   "execution_count": 10,
   "id": "02555b5f-af4d-4d45-82ae-f8d87e09ed37",
   "metadata": {},
   "outputs": [
    {
     "data": {
      "text/plain": [
       "CRS.from_wkt('PROJCS[\"WGS 84 / UTM zone 21S\",GEOGCS[\"WGS 84\",DATUM[\"WGS_1984\",SPHEROID[\"WGS 84\",6378137,298.257223563,AUTHORITY[\"EPSG\",\"7030\"]],AUTHORITY[\"EPSG\",\"6326\"]],PRIMEM[\"Greenwich\",0,AUTHORITY[\"EPSG\",\"8901\"]],UNIT[\"degree\",0.0174532925199433,AUTHORITY[\"EPSG\",\"9122\"]],AUTHORITY[\"EPSG\",\"4326\"]],PROJECTION[\"Transverse_Mercator\"],PARAMETER[\"latitude_of_origin\",0],PARAMETER[\"central_meridian\",-57],PARAMETER[\"scale_factor\",0.9996],PARAMETER[\"false_easting\",500000],PARAMETER[\"false_northing\",10000000],UNIT[\"metre\",1,AUTHORITY[\"EPSG\",\"9001\"]],AXIS[\"Easting\",EAST],AXIS[\"Northing\",NORTH],AUTHORITY[\"EPSG\",\"32721\"]]')"
      ]
     },
     "execution_count": 10,
     "metadata": {},
     "output_type": "execute_result"
    }
   ],
   "source": [
    "band.crs # KBS ausgeben lassen"
   ]
  },
  {
   "cell_type": "code",
   "execution_count": 79,
   "id": "f6bd0abf-52e5-4b77-972b-23cba79a19e0",
   "metadata": {},
   "outputs": [
    {
     "name": "stdout",
     "output_type": "stream",
     "text": [
      "None\n"
     ]
    }
   ],
   "source": [
    "print(band.nodata)"
   ]
  },
  {
   "cell_type": "code",
   "execution_count": 20,
   "id": "0c99428c-fb52-4e61-a201-7081293b4290",
   "metadata": {},
   "outputs": [
    {
     "name": "stdout",
     "output_type": "stream",
     "text": [
      "[[   0    0    0 ... 1978 1993 1965]\n",
      " [   0    0    0 ... 1979 1979 1965]\n",
      " [   0    0    0 ... 1980 1982 1987]\n",
      " ...\n",
      " [   0    0    0 ... 1719 1708 1727]\n",
      " [   0    0    0 ... 1715 1721 1729]\n",
      " [   0    0    0 ... 1715 1729 1750]]\n"
     ]
    }
   ],
   "source": [
    "band_values = band.read(1)\n",
    "print(band_values)"
   ]
  },
  {
   "cell_type": "code",
   "execution_count": 21,
   "id": "e61ada5a-977f-4cdc-b262-96dcff34ba49",
   "metadata": {},
   "outputs": [],
   "source": [
    "arr = np.array(band_values)"
   ]
  },
  {
   "cell_type": "code",
   "execution_count": 23,
   "id": "ef7aae26-49d0-41c3-a805-860a6ca73b88",
   "metadata": {},
   "outputs": [
    {
     "data": {
      "text/plain": [
       "15187"
      ]
     },
     "execution_count": 23,
     "metadata": {},
     "output_type": "execute_result"
    }
   ],
   "source": [
    "np.max(arr) # Rohdaten, alles > 10.000 sind im Regelfall sehr helle Pixel und Wolken. 15187 ist wsh. ein Störpixel."
   ]
  },
  {
   "cell_type": "code",
   "execution_count": 24,
   "id": "09726398-a593-490b-af88-e079f3b7bc1c",
   "metadata": {},
   "outputs": [
    {
     "data": {
      "text/plain": [
       "0"
      ]
     },
     "execution_count": 24,
     "metadata": {},
     "output_type": "execute_result"
    }
   ],
   "source": [
    "np.min(arr)"
   ]
  },
  {
   "cell_type": "code",
   "execution_count": 26,
   "id": "85bad0d3-092c-4169-ba1c-1c5b3431b00d",
   "metadata": {},
   "outputs": [
    {
     "data": {
      "text/plain": [
       "292.5079087411787"
      ]
     },
     "execution_count": 26,
     "metadata": {},
     "output_type": "execute_result"
    }
   ],
   "source": [
    "np.mean(arr)"
   ]
  },
  {
   "cell_type": "markdown",
   "id": "a39a77b4-a1df-4824-a6f1-92290ca09822",
   "metadata": {},
   "source": [
    "Rohdaten in physikalisch interpretierbare Reflexionen umrechnen: Durch 10.000 teilen. Dann sind alle Werte über 1 wsh. Übersteuerungen."
   ]
  },
  {
   "cell_type": "code",
   "execution_count": 70,
   "id": "b0cbee9e-e9d4-4a96-ad6e-7ef4543bbf43",
   "metadata": {},
   "outputs": [],
   "source": [
    "arr_umgerechnet = arr/10000"
   ]
  },
  {
   "cell_type": "code",
   "execution_count": 49,
   "id": "aeec88ca-ec10-448d-96c1-d28b5890eaa0",
   "metadata": {},
   "outputs": [
    {
     "data": {
      "text/plain": [
       "1.5187"
      ]
     },
     "execution_count": 49,
     "metadata": {},
     "output_type": "execute_result"
    }
   ],
   "source": [
    "np.max(arr_umgerechnet)"
   ]
  },
  {
   "cell_type": "code",
   "execution_count": 50,
   "id": "98c874d9-d2ae-49e1-897d-69bb9779cf04",
   "metadata": {},
   "outputs": [
    {
     "data": {
      "text/plain": [
       "0.029250790874117853"
      ]
     },
     "execution_count": 50,
     "metadata": {},
     "output_type": "execute_result"
    }
   ],
   "source": [
    "np.mean(arr_umgerechnet)"
   ]
  },
  {
   "cell_type": "code",
   "execution_count": 51,
   "id": "44738801-bafd-49f8-bd96-2eb3baba5180",
   "metadata": {},
   "outputs": [
    {
     "data": {
      "text/plain": [
       "0.0"
      ]
     },
     "execution_count": 51,
     "metadata": {},
     "output_type": "execute_result"
    }
   ],
   "source": [
    "np.min(arr_umgerechnet)"
   ]
  },
  {
   "cell_type": "code",
   "execution_count": 53,
   "id": "7cc73022-8610-47c9-9006-bdea32fbb239",
   "metadata": {},
   "outputs": [],
   "source": [
    "arr_ohnenull = arr_umgerechnet[arr_umgerechnet > 0]\n",
    "# Nullwerte des Sentinel-Bilds herausrechnen"
   ]
  },
  {
   "cell_type": "markdown",
   "id": "b1317c74-30d6-4769-9886-46d7c9a288a1",
   "metadata": {},
   "source": [
    "## Histogramm ausgeben"
   ]
  },
  {
   "cell_type": "code",
   "execution_count": 72,
   "id": "86902871-d32f-408e-b4a6-de75ff9e8dce",
   "metadata": {},
   "outputs": [
    {
     "data": {
      "image/png": "[encoded data removed]",
      "text/plain": [
       "<Figure size 640x480 with 1 Axes>"
      ]
     },
     "metadata": {},
     "output_type": "display_data"
    }
   ],
   "source": [
    "plt.hist(arr_ohnenull, bins=100, color='skyblue')\n",
    "plt.xlabel('Reflexion')\n",
    "plt.ylabel('Pixelanzahl')\n",
    "plt.title('Histogramm der Sentinel-2-Reflexionen')\n",
    "plt.show()"
   ]
  },
  {
   "cell_type": "markdown",
   "id": "2a1fca0a-d15a-4c72-8c0e-c48e96f539e6",
   "metadata": {},
   "source": [
    "## Mögliche einfache Wolkenabschätzung"
   ]
  },
  {
   "cell_type": "code",
   "execution_count": 45,
   "id": "b35e46b2-a7f3-4066-816b-935ee9ccc773",
   "metadata": {},
   "outputs": [
    {
     "name": "stdout",
     "output_type": "stream",
     "text": [
      "55 Pixel sind mutmaßlich wolkenbelastet. Das sind 0.0000 % der Gesamtpixel.\n"
     ]
    }
   ],
   "source": [
    "arr_cloud = arr_ohnenull > 1.0  \n",
    "cloud_count = np.count_nonzero(arr_cloud)\n",
    "print(f\"{cloud_count} Pixel sind mutmaßlich wolkenbelastet. Das sind {np.count_nonzero(arr_cloud)/np.count_nonzero(arr_umgerechnet):.4f} % der Gesamtpixel.\")"
   ]
  },
  {
   "cell_type": "markdown",
   "id": "38c52782-1f0d-4d6d-a2bb-c1b2d06ea340",
   "metadata": {},
   "source": [
    "## Nullwerte"
   ]
  },
  {
   "cell_type": "code",
   "execution_count": 78,
   "id": "0084171b-0c60-4f23-9ebc-27ea3e099c97",
   "metadata": {
    "scrolled": true
   },
   "outputs": [
    {
     "name": "stdout",
     "output_type": "stream",
     "text": [
      "101695181 Pixel sind gleich null.Das sind 84.3521% der Gesamtpixel.\n"
     ]
    }
   ],
   "source": [
    "mask_null = arr_umgerechnet == 0\n",
    "count_null = np.count_nonzero(mask_null)\n",
    "count_total = arr_umgerechnet.size\n",
    "print(f\"{count_null} Pixel sind gleich null.\"\n",
    "      f\"Das sind {count_null / count_total:.4%} der Gesamtpixel.\")"
   ]
  },
  {
   "cell_type": "code",
   "execution_count": 61,
   "id": "96010a1b-51ed-45bd-9206-77610d34e45f",
   "metadata": {},
   "outputs": [
    {
     "data": {
      "text/plain": [
       "120560400"
      ]
     },
     "execution_count": 61,
     "metadata": {},
     "output_type": "execute_result"
    }
   ],
   "source": [
    "count_total"
   ]
  },
  {
   "cell_type": "code",
   "execution_count": 81,
   "id": "9515402c-0236-496f-84f5-14b1af5ce656",
   "metadata": {},
   "outputs": [
    {
     "data": {
      "image/png": "[encoded data removed]",
      "text/plain": [
       "<Figure size 640x480 with 1 Axes>"
      ]
     },
     "metadata": {},
     "output_type": "display_data"
    }
   ],
   "source": [
    "plt.imshow(arr_umgerechnet == 0, cmap='gray')\n",
    "plt.title(\"Nodata Bildpixel\")\n",
    "plt.show()"
   ]
  },
  {
   "cell_type": "code",
   "execution_count": null,
   "id": "b9d1b0fc-6f3d-4367-ace0-c80828f3c91c",
   "metadata": {},
   "outputs": [],
   "source": []
  }
 ],
 "metadata": {
  "kernelspec": {
   "display_name": "Python 3 (ipykernel)",
   "language": "python",
   "name": "python3"
  },
  "language_info": {
   "codemirror_mode": {
    "name": "ipython",
    "version": 3
   },
   "file_extension": ".py",
   "mimetype": "text/x-python",
   "name": "python",
   "nbconvert_exporter": "python",
   "pygments_lexer": "ipython3",
   "version": "3.12.4"
  }
 },
 "nbformat": 4,
 "nbformat_minor": 5
}
