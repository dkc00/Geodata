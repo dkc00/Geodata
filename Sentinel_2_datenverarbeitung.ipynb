{
 "cells": [
  {
   "cell_type": "markdown",
   "id": "6311a494-9077-4eed-a453-c062b5fb341f",
   "metadata": {},
   "source": [
    "# Sentinel-2 Datenverarbeitungs-Pipeline mit QGIS und Python"
   ]
  },
  {
   "cell_type": "markdown",
   "id": "1c7dc180-5039-4d42-acf7-0ea92301af71",
   "metadata": {},
   "source": [
    "In den folgenden Schritten werden am Beispiel Uruguays mögliche Schritte der Datenverarbeitung von Sentinel-2-Daten aufgearbeitet und umgesetzt. Dabei werden Geoverarbeitungsschritte mit PyQGIS-Code eingebaut sowie verschiedene Methodikansätze getestet, die anschließend je nach Anwendungsfeld eingesetzt werden können. "
   ]
  },
  {
   "cell_type": "markdown",
   "id": "082ac5c3-8d42-4e9c-bb39-f31dfe1a9bfd",
   "metadata": {},
   "source": [
    "Es ist möglich, mittels Bau eines QGIS-Plugins direkt Daten vom Copernicus Dataspace zu beziehen. Dafür würde ein Authentifizierungsmodul mit Verwaltung der Zugangsdaten, automatischer Token-Erneuerung etc. benötigt werden, ebenso mit Qt Designer umsetzbare GUI-Elemente und spezifischen Code zur API-Integration und Umsetzung im GIS. Praktisch gibt es schon den \"Sentinel-2 Image Downloader\" von Murat Çalışkan zum kostenlosen Download als QGIS-Plugin."
   ]
  },
  {
   "cell_type": "markdown",
   "id": "34e21088-8c33-4fab-a7cb-2f57a254ad9b",
   "metadata": {},
   "source": [
    "## Sentinel-2 Daten herunterladen "
   ]
  },
  {
   "cell_type": "markdown",
   "id": "77fb9f0f-d8f9-4da7-bc32-81e9c54112c0",
   "metadata": {},
   "source": [
    "Wir nutzen nicht den manuellen Weg über den Copernicus Dataspace, sondern verwenden das erwähnte Sentinel-2-Downloadplugin. Als Datenvorbereitung habe ich die administrative level 0-2 boundaries von Uruguay als .shp heruntergeladen und in QGIS dissolved, um die Landfläche des Staates zu erhalten. "
   ]
  },
  {
   "cell_type": "code",
   "execution_count": null,
   "id": "42ecb62c-d717-4b4c-a33e-8d12ecc078f4",
   "metadata": {},
   "outputs": [],
   "source": [
    "# Ansatz direkt in der QGIS Python-Konsole\n",
    "params = {'INPUT':\"C:/\", # hier richtigen pfad einfuegen\n",
    "          'FIELD':[],\n",
    "          'SEPARATE_DISJOINT':False,\n",
    "          'OUTPUT':'TEMPORARY_OUTPUT'}\n",
    "\n",
    "processing.run(\"native:dissolve\", params)\n",
    "\n",
    "# Alternativ ohne Code als Geoverarbeitungswerkzeug in QGIS: Vector geometry --> Dissolve\n",
    "\n",
    "# Ergebnis nach Belieben abspeichern"
   ]
  },
  {
   "cell_type": "markdown",
   "id": "f97f1dbd-8247-4ff1-80ef-2554c06222e8",
   "metadata": {},
   "source": [
    "Im Plugin wählen wir als erstes bei \"Download Footprints\" unseren Layer aus und klicken auf \"Layer Extent\". Max. Cloud 10%, Product Type L1C (es gibt kein L2A für Uruguay), Start- und Enddatum den September 2025. Wir geben einen Outputfolder an."
   ]
  },
  {
   "cell_type": "markdown",
   "id": "9c79df5c-575f-4432-8fe4-6aad6e8c68a6",
   "metadata": {},
   "source": [
    "Als Überprüfung des Layers und der Korrektheit der Bounding-Box (um Fehlern vorzubeugen) nutzte ich Code aus dem \"bounding_box_aller_layer.py\"-Skript, um uns die räumliche Ausdehnung unseres Shapefiles ausgeben zu lassen. "
   ]
  },
  {
   "cell_type": "code",
   "execution_count": null,
   "id": "4cddf5c4-bf7a-4142-9adc-e93c7dea1621",
   "metadata": {},
   "outputs": [],
   "source": [
    "\"\"\"\n",
    "BOUNDING BOX VON EINEM LAYER \n",
    "\"\"\"\n",
    "from qgis.core import QgsProject \n",
    "\n",
    "layer_name = \"landflaeche_uruguay\"\n",
    "einzelner_layer = QgsProject.instance().mapLayersByName(layer_name)[0]\n",
    "\n",
    "if einzelner_layer and isinstance(einzelner_layer, QgsVectorLayer):\n",
    "    \n",
    "     extent = einzelner_layer.extent()\n",
    "\n",
    "     xmin = extent.xMinimum()\n",
    "     xmax = extent.xMaximum()\n",
    "     ymin = extent.yMinimum()\n",
    "     ymax = extent.yMaximum()\n",
    "\n",
    "     print(f\"Bounding-Box des Layers {einzelner_layer.name()}:\")\n",
    "     print(f\"  Xmin: {xmin:.8f}\")\n",
    "     print(f\"  Xmax: {xmax:.8f}\")\n",
    "     print(f\"  Ymin: {ymin:.8f}\")\n",
    "     print(f\"  Ymax: {ymax:.8f}\")\n",
    "\n",
    "     bbox_coords = (xmin, xmax, ymin, ymax)"
   ]
  },
  {
   "cell_type": "markdown",
   "id": "787f803d-56e8-4c8f-8fa0-2a7cb566e26e",
   "metadata": {},
   "source": [
    "Unser Ergebnis in der QGIS-Python-Konsole: \n",
    "\n",
    "Bounding-Box des Layers landflaeche_uruguay:\r\n",
    "  Xmin: -58.44272232\r\n",
    "  Xmax: -53.09424591\r\n",
    "  Ymin: -34.97402954\r\n",
    "  Ymax: -30.079689038913"
   ]
  },
  {
   "cell_type": "markdown",
   "id": "3845bb4b-5bf3-4262-b010-cdc83947f14f",
   "metadata": {},
   "source": [
    "Das Ergebnis war korrekt und stimmte mit der Ausgabe des Plugins überein. In unserem Fall wurden nach Abzug der Duplikate 14 Bilder gefunden. Der anschließende \"Running\"-Prozess kann etwas dauern.\n",
    "Bei \"Download Images\" loggen wir uns mit den Copernicus-Logindaten ein, wählen das im vorherigen Schritt erstellte GPKG als Input aus, erneut unseren Output-Ordner sowie bei \"OPTIONS\" die gewünschten Bänder. Für diese Auswertung werden das True Color Image (TCI) sowie die Bänder B02, B03, B04, B05, B06, B08 und B11 heruntergeladen. \n",
    "Es kann auch ein kleineres Untersuchungsgebiet gewählt werden, in meinem Fall werden nun 89 Bilder à ca. 400 MB Daten heruntergeladen. Das hat den Vorteil eines sehr großen Datensatzes für Machine Learning Methoden, Datenvalidierung und mehr, ist aber speicherintensiv. "
   ]
  },
  {
   "cell_type": "code",
   "execution_count": null,
   "id": "d4de83d7-eee2-4c81-b5a9-96d9da9411fb",
   "metadata": {},
   "outputs": [],
   "source": []
  }
 ],
 "metadata": {
  "kernelspec": {
   "display_name": "Python 3 (ipykernel)",
   "language": "python",
   "name": "python3"
  },
  "language_info": {
   "codemirror_mode": {
    "name": "ipython",
    "version": 3
   },
   "file_extension": ".py",
   "mimetype": "text/x-python",
   "name": "python",
   "nbconvert_exporter": "python",
   "pygments_lexer": "ipython3",
   "version": "3.12.4"
  }
 },
 "nbformat": 4,
 "nbformat_minor": 5
}
