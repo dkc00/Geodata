{
 "cells": [
  {
   "cell_type": "markdown",
   "id": "90cb4b88-2143-4a12-ac07-5385dcb63f69",
   "metadata": {},
   "source": [
    "# (Nicht abrufbare) Layouts managen"
   ]
  },
  {
   "cell_type": "markdown",
   "id": "bd408994-edc0-4a67-82c9-68afdbbfe865",
   "metadata": {},
   "source": [
    "Vermutlich durch KBS-Änderungen kam es bei mir im QGIS-Projekt zu Problemen, \n",
    "meine alten Karten-Layouts korrekt zu öffnen. Die Karten deshalb neu anzufertigen, \n",
    "ist aber sehr mühsam. Dieses Skript exportiert die beschädigten/ nicht korrekt \n",
    "ladenden Layouts, ohne dass sie im GIS geöffnet werden müssen. \n",
    "Zudem kann bei großen WMS-Layern die dpi-Auflösung des exportierten Bildes \n",
    "Probleme machen. Diese wird deshalb separat berücksichtigt. Layer können \n",
    "entfernt und wieder hinzugefügt werden. \n",
    "\n",
    "Die Skriptblöcke sollten direkt in der Python-Konsole von QGIS ausgeführt werden und nicht in diesem Notebook."
   ]
  },
  {
   "cell_type": "code",
   "execution_count": null,
   "id": "395c3a7f-d16c-4e31-94b3-f8990a7d5041",
   "metadata": {},
   "outputs": [],
   "source": [
    "from qgis.core import (QgsProject, \n",
    "QgsLayoutExporter, \n",
    "QgsLayoutItemMap, \n",
    "QgsLayoutObject, \n",
    "QgsProperty, \n",
    "QgsLayoutItemLegend, \n",
    "QgsUnitTypes) # Das bei anderen Skripten auch noch mit den Klammern anpassen, \n",
    "# aus qgis.core wird teils sehr viel eingeladen und so wird die lesbarkeit v.a. in der python konsole und im editor verbessert.\n",
    "\n"
   ]
  },
  {
   "cell_type": "markdown",
   "id": "8d42b47b-eb0c-4665-afd7-db2eee11972a",
   "metadata": {},
   "source": [
    "**HIER Name des Layouts im GIS angeben**"
   ]
  },
  {
   "cell_type": "code",
   "execution_count": 1,
   "id": "c9454104-1e57-4eba-9019-d2e8e2df63ff",
   "metadata": {},
   "outputs": [],
   "source": [
    "layout_name = \"NEU\"\n",
    "dpi = 140 "
   ]
  },
  {
   "cell_type": "markdown",
   "id": "d6b8405c-9932-4361-9f2c-ec640ad26bab",
   "metadata": {},
   "source": [
    "Standardmäßig ist der Wert bei 300dpi. Hier die dpi anpassen, wenn bspw. eine WMS-Karte sonst nicht richtig exportiert wird. "
   ]
  },
  {
   "cell_type": "markdown",
   "id": "dffbb8d9-5b45-4d36-ab96-ac16d438ba40",
   "metadata": {},
   "source": [
    "FÜR EXPORT: HIER neuen Export-Pfad angeben "
   ]
  },
  {
   "cell_type": "code",
   "execution_count": null,
   "id": "15cb577f-80a0-414f-b521-3589332347b5",
   "metadata": {},
   "outputs": [],
   "source": [
    "output_path = f\"C:\\\\...\\\\{layout_name}.png\""
   ]
  },
  {
   "cell_type": "code",
   "execution_count": null,
   "id": "8bec97f8-a2bb-41ff-9962-31a338df8dc3",
   "metadata": {},
   "outputs": [],
   "source": [
    "project = QgsProject.instance()\n",
    "layout_manager = project.layoutManager()\n",
    "layout = layout_manager.layoutByName(layout_name)"
   ]
  },
  {
   "cell_type": "markdown",
   "id": "66cfdbb8-a379-427e-97a1-24edcdeea21c",
   "metadata": {},
   "source": [
    "## LAYER ENTFERNEN UND WIEDER EINFÜGEN"
   ]
  },
  {
   "cell_type": "code",
   "execution_count": null,
   "id": "5a613db9-d0ee-4d43-abe2-a43de8183f82",
   "metadata": {},
   "outputs": [],
   "source": [
    "layer_name = \"Torfmächtigkeiten aus Bohrungen [m]\"\n",
    "geladen = QgsProject.instance().mapLayersByName(layer_name)\n",
    "if not geladen:\n",
    "    raise ValueError(f\"Layer '{layer_name}' nicht im Projekt gefunden\")\n",
    "layer_obj = geladen[0]\n",
    "# print(f\"Layer '{layer_obj.name()}' gefunden, Feature-Anzahl: {layer.featureCount()}\")\n",
    "\n",
    "# ÜBERPRUEFEN; OB ALLE LAYER IM LAYOUT GEFUNDEN WERDEN (optional)\n",
    "#for item in layout.items():\n",
    "#    if isinstance(item, QgsLayoutItemMap):\n",
    "#        print(\"Map-Item gefunden:\", item.displayName())\n",
    "#        print(\"Layer im Layout:\", [l.name() for l in item.layers()])\n",
    "        \n",
    "        \n",
    "map_item = None\n",
    "for item in layout.items():\n",
    "    if isinstance(item, QgsLayoutItemMap):\n",
    "        map_item = item\n",
    "        break\n",
    "       \n",
    "map_item.setFollowVisibilityPreset(False)"
   ]
  },
  {
   "cell_type": "markdown",
   "id": "e1308004-7eda-4919-a1c4-1e20499f2aa0",
   "metadata": {},
   "source": [
    "**ES FOLGT: LAYER ENTFERNEN**"
   ]
  },
  {
   "cell_type": "code",
   "execution_count": null,
   "id": "d9ea4216-7558-4d84-99e2-12f909dc55ef",
   "metadata": {},
   "outputs": [],
   "source": [
    "if map_item:\n",
    "    # aktuelle Layerliste holen\n",
    "    layers_vor = map_item.layers()\n",
    "    print(f\"Layers vor dem Entfernen: {layers_vor} \")\n",
    "    # gewünschten layer aus der liste herausfiltern \n",
    "    layers_nach = [l for l in layers_vor if l.id() != layer_obj.id()]\n",
    "    print(f\"Layers nach dem Entfernen: {layers_nach} \")\n",
    "    layers = layers_nach\n",
    "    # neue Layerliste ohne besagten layer \n",
    "    map_item.setLayers(layers)\n",
    "    \n",
    "    if layer_obj.id() not in [l.id() for l in layers_vor]:\n",
    "        print(f\"{layer_name} nicht in Layern gefunden.\")\n",
    "    else:\n",
    "        print(f\"Layer {layer_name} aus dem Kartenfenster entfernt.\")\n",
    "        "
   ]
  },
  {
   "cell_type": "markdown",
   "id": "433bf9f0-84d1-4b23-b700-58b9fd85fa25",
   "metadata": {},
   "source": [
    "**LEGENDENEINTRAG ENTFERNEN**"
   ]
  },
  {
   "cell_type": "code",
   "execution_count": null,
   "id": "bf02286a-9724-4cc4-92be-0964ddca908b",
   "metadata": {},
   "outputs": [],
   "source": [
    "legend_item = None\n",
    "for item in map_item.layout().items():\n",
    "    if isinstance(item, QgsLayoutItemLegend):\n",
    "        legend_item = item\n",
    "        break\n",
    "\n",
    "if legend_item:\n",
    "    root = legend_item.model().rootGroup()\n",
    "    \n",
    "    for ltl in root.findLayers():\n",
    "        if ltl.layer().id() == layer_obj.id():\n",
    "            root.removeChildNode(ltl)\n",
    "    legend_item.refresh()\n",
    "    print(f\"Legendeneintrag von {layer_name} aus Legende entfernt.\")"
   ]
  },
  {
   "cell_type": "markdown",
   "id": "70aa1b67-6a0b-4d55-a5d5-0e8667397c9e",
   "metadata": {},
   "source": [
    "**ES FOLGT: LAYER (WIEDER) HINZUFÜGEN**"
   ]
  },
  {
   "cell_type": "code",
   "execution_count": null,
   "id": "078ca3cd-82a3-4c8b-8b70-bebe22e4e8e9",
   "metadata": {},
   "outputs": [],
   "source": [
    "dd = map_item.dataDefinedProperties()\n",
    "if QgsLayoutObject.MapLayers in dd.propertyKeys() and dd.isActive(QgsLayoutObject.MapLayers):\n",
    "    dd.setProperty(QgsLayoutObject.MapLayers, QgsProperty())\n",
    "    map_item.setDataDefinedProperties(dd)\n",
    "    # map_item.setKeepLayerSet(False) # hiermit kann man \"lock layers\" deaktivieren\n",
    "    \n",
    "current = list(map_item.layers())  \n",
    "if layer_obj.id() not in [l.id() for l in current]:\n",
    "    current.append(layer_obj)\n",
    "    current.insert(0, layer_obj) \n",
    "    map_item.setLayers(current)\n",
    "\n",
    "    if map_item.layout():\n",
    "        map_item.layout().refresh()\n",
    "        print(f\"Der Karte wurde erfolgreich der Layer {layer} hinzugefügt! \")\n",
    "else:\n",
    "    current.insert(0, layer_obj) \n",
    "    print(f\"{layer_name} bereits im Layout eingeladen.\")\n"
   ]
  },
  {
   "cell_type": "markdown",
   "id": "e0b51e8f-2046-4a33-b6bb-3945608112d2",
   "metadata": {},
   "source": [
    "\n",
    "**nach dem einladen: LEGENDE ANPASSEN**.\n",
    "das funktioniert noch nicht ganz , er legt einen legendeneintrag an, aber nicht mit dem genannten namen. der rest funktioniert."
   ]
  },
  {
   "cell_type": "code",
   "execution_count": null,
   "id": "e7696d83-bd97-4ac5-bcf2-1260b9141ef8",
   "metadata": {},
   "outputs": [],
   "source": [
    "legenden_eintrag_name = \"Flurstücke\"\n",
    "\n",
    "legend_item = None\n",
    "for item in layout.items():\n",
    "    if isinstance(item, QgsLayoutItemLegend):\n",
    "        legend_item = item\n",
    "        # print(legend_item)\n",
    "        break\n",
    "\n",
    "if legend_item:\n",
    "    legend_layer_ids = [lay.layer().id() for lay in legend_item.model().rootGroup().findLayers()]\n",
    "    if layer_obj.id() not in legend_layer_ids:\n",
    "        legend_item.model().rootGroup().addLayer(layer_obj)\n",
    "        legend_layer = legend_item.model().rootGroup().findLayer(layer_obj)\n",
    "        if legend_layer:\n",
    "            legend_layer.setName(legenden_eintrag_name) \n",
    "        legend_item.refresh()\n",
    "        print(f\"Legendeneintrag für {legenden_eintrag_name} vorgenommen.\")\n",
    "        \n",
    "    rect = legend_item.rect()\n",
    "    # print(rect)      # QgsLayoutItem::rect() liefert QRectF\n",
    "    new_height = rect.height() + 20  # z.B. 20 mm mehr Platz\n",
    "    # print(new_height)\n",
    "    legend_item.attemptResize(QgsLayoutSize(rect.width(), new_height, QgsUnitTypes.LayoutMillimeters))\n",
    "    \n",
    "    # Legende verschieben als alternative:\n",
    "    # legend_item.attemptMove(rect.x(), rect.y() - 10)  # 10 mm nach oben\n",
    "    \n",
    "    root = legend_item.model().rootGroup()\n",
    "    root.addLayer(layer_obj)  \n",
    "    legend_item.refresh()"
   ]
  },
  {
   "cell_type": "markdown",
   "id": "366b60a4-8764-4b7a-9b80-6451b2e48ea7",
   "metadata": {},
   "source": [
    "## **EXPORT DES LAYOUTS**"
   ]
  },
  {
   "cell_type": "code",
   "execution_count": null,
   "id": "9665c451-a2e3-4d93-b6ea-ddd7910716d4",
   "metadata": {},
   "outputs": [],
   "source": [
    "if layout is None:\n",
    "    print(f\"Layout '{layout_name}' nicht gefunden!\")\n",
    "else:\n",
    "    for item in layout.items():\n",
    "        if isinstance(item, QgsLayoutItemMap):\n",
    "            item.setFollowVisibilityPreset(False)   # layout folgt keinem preset sondern ist dynamisch\n",
    "            item.setKeepLayerSet(False)  #  hebt lock layers auf, ggfs auf true setzen\n",
    "            item.setKeepLayerStyles(False) # hebt lock styles auf, ggfs auf true setzen. WICHTIG! Styles ändern sich nicht, wenn das nicht false ist.\n",
    "            item.setLayers(QgsProject.instance().layerTreeRoot().checkedLayers())  # nur sichtbare layer\n",
    "            item.refresh()\n",
    "            \n",
    "    exporter = QgsLayoutExporter(layout)\n",
    "    settings = QgsLayoutExporter.ImageExportSettings()\n",
    "    settings.dpi = dpi  \n",
    "    result = exporter.exportToImage(output_path, settings)\n",
    "\n",
    "    if result == QgsLayoutExporter.Success:\n",
    "        print(f\"Layout erfolgreich mit {dpi} dpi exportiert nach: {output_path}\")\n",
    "    else:\n",
    "        print(\"Fehler beim Export!\")"
   ]
  }
 ],
 "metadata": {
  "kernelspec": {
   "display_name": "Python 3 (ipykernel)",
   "language": "python",
   "name": "python3"
  },
  "language_info": {
   "codemirror_mode": {
    "name": "ipython",
    "version": 3
   },
   "file_extension": ".py",
   "mimetype": "text/x-python",
   "name": "python",
   "nbconvert_exporter": "python",
   "pygments_lexer": "ipython3",
   "version": "3.12.7"
  }
 },
 "nbformat": 4,
 "nbformat_minor": 5
}
